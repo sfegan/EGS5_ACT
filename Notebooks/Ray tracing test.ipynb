{
 "cells": [
  {
   "cell_type": "code",
   "execution_count": 1,
   "metadata": {
    "collapsed": false
   },
   "outputs": [
    {
     "name": "stdout",
     "output_type": "stream",
     "text": [
      "\n",
      "Welcome to pylab, a matplotlib-based Python environment [backend: module://IPython.zmq.pylab.backend_inline].\n",
      "For more information, type 'help(pylab)'.\n"
     ]
    }
   ],
   "source": [
    "%pylab inline\n",
    "matplotlib.rcParams['figure.figsize'] = 9, 6\n",
    "import sys,os\n",
    "sys.path.append('..')\n",
    "sys.path.append('../RayTracing')\n",
    "from VSORayTracer import *\n",
    "from numpy import *"
   ]
  },
  {
   "cell_type": "code",
   "execution_count": 2,
   "metadata": {
    "collapsed": false
   },
   "outputs": [
    {
     "name": "stdout",
     "output_type": "stream",
     "text": [
      "/Users/sfegan/Google Drive/Code/Projects/Simulations/EGS5\n"
     ]
    }
   ],
   "source": [
    "cd /Users/sfegan/Google Drive/Code/Projects/Simulations/EGS5"
   ]
  },
  {
   "cell_type": "code",
   "execution_count": 4,
   "metadata": {
    "collapsed": false
   },
   "outputs": [],
   "source": [
    "param = VSOArrayParameters()\n",
    "param.reset(True)"
   ]
  },
  {
   "cell_type": "code",
   "execution_count": 6,
   "metadata": {
    "collapsed": false
   },
   "outputs": [],
   "source": [
    "rng = RandomNumbers(RandomNumbers.defaultFilename())\n",
    "cta = VSOTelescopeArray()\n",
    "cta.generateFromArrayParameters(param, rng)\n",
    "cta.pointTelescopesAzEl(0,45./180.0*pi);"
   ]
  },
  {
   "cell_type": "code",
   "execution_count": 21,
   "metadata": {
    "collapsed": false
   },
   "outputs": [
    {
     "name": "stdout",
     "output_type": "stream",
     "text": [
      "1200.0 0.00261666666667\n",
      "0.0 0.0 178790.0\n",
      "0.0 0.707106781187 0.707106781187\n",
      "-0.0 -0.707106781187 -0.707106781187\n",
      "0.0 0.0 178790.0\n"
     ]
    }
   ],
   "source": [
    "scope = cta.telescope(0)\n",
    "pos = scope.position()\n",
    "ax = scope.opticalAxis()\n",
    "beam_dir = Vec3D(ax)\n",
    "beam_dir *= -1.0\n",
    "beam_cen = Vec3D(pos)\n",
    "F = scope.focalPlanePosition().y\n",
    "PS = scope.pixelSpacing()/F\n",
    "print F, PS\n",
    "print pos.x, pos.y, pos.z\n",
    "print ax.x, ax.y, ax.z\n",
    "print beam_dir.x, beam_dir.y, beam_dir.z\n",
    "print beam_cen.x, beam_cen.y, beam_cen.z"
   ]
  },
  {
   "cell_type": "code",
   "execution_count": 22,
   "metadata": {
    "collapsed": false
   },
   "outputs": [],
   "source": [
    "raytracer = VSORayTracer(cta, rng)"
   ]
  },
  {
   "cell_type": "code",
   "execution_count": 23,
   "metadata": {
    "collapsed": false
   },
   "outputs": [
    {
     "name": "stdout",
     "output_type": "stream",
     "text": [
      "3261\n"
     ]
    }
   ],
   "source": [
    "ph = Particle()\n",
    "info = VSOTraceInfo()\n",
    "x = []\n",
    "y = []\n",
    "for theta in arange(0.0,4.0,0.5):\n",
    "    beam_dir_offset = Vec3D(beam_dir)\n",
    "    beam_dir_offset.Rotate(Vec3D(theta/180.0*pi,0,0))\n",
    "    for i in range(0,1000):\n",
    "        raytracer.laserBeam(ph, beam_cen, beam_dir_offset, -1.0*scope.curvatureRadius(), scope.aperture()*0.55, 300)\n",
    "        pixel = raytracer.trace(ph, info, scope)\n",
    "        if info.status==13:\n",
    "            x.append(info.fplane_x)\n",
    "            y.append(info.fplane_z)\n",
    "x = array(x)*PS/pi*180\n",
    "y = array(y)*PS/pi*180\n",
    "print len(y)"
   ]
  },
  {
   "cell_type": "code",
   "execution_count": 27,
   "metadata": {
    "collapsed": false
   },
   "outputs": [
    {
     "data": {
      "image/png": "[encoded data removed]"
     },
     "metadata": {},
     "output_type": "display_data"
    }
   ],
   "source": [
    "figure(1, figsize=[ 15, 3 ])\n",
    "plot(-y,x,'.')\n",
    "#a=axis()\n",
    "#da=max(a[1]-a[0], a[3]-a[2])/2\n",
    "#axis([(a[1]+a[0])/2-da, (a[1]+a[0])/2+da, (a[3]+a[2])/2-da, (a[3]+a[2])/2+da]);\n",
    "axis([-0.5, 4.5, -0.5, 0.5]);"
   ]
  },
  {
   "cell_type": "code",
   "execution_count": null,
   "metadata": {
    "collapsed": false
   },
   "outputs": [],
   "source": []
  }
 ],
 "metadata": {
  "kernelspec": {
   "display_name": "Python 3",
   "language": "python",
   "name": "python3"
  },
  "language_info": {
   "codemirror_mode": {
    "name": "ipython",
    "version": 3
   },
   "file_extension": ".py",
   "mimetype": "text/x-python",
   "name": "python",
   "nbconvert_exporter": "python",
   "pygments_lexer": "ipython3",
   "version": "3.4.5"
  }
 },
 "nbformat": 4,
 "nbformat_minor": 0
}
