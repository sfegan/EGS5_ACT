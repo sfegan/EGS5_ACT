{
 "metadata": {
  "name": ""
 },
 "nbformat": 3,
 "nbformat_minor": 0,
 "worksheets": [
  {
   "cells": [
    {
     "cell_type": "code",
     "collapsed": false,
     "input": [
      "%pylab inline\n",
      "matplotlib.rcParams['figure.figsize'] = 9, 6\n",
      "import sys,os\n",
      "sys.path.append('..')\n",
      "import EGS5Simulations\n",
      "from numpy import *"
     ],
     "language": "python",
     "metadata": {},
     "outputs": [
      {
       "output_type": "stream",
       "stream": "stdout",
       "text": [
        "Populating the interactive namespace from numpy and matplotlib\n"
       ]
      }
     ],
     "prompt_number": 1
    },
    {
     "cell_type": "code",
     "collapsed": false,
     "input": [
      "cd /Users/sfegan/Google\\ Drive/Code/Projects/Simulations/EGS5"
     ],
     "language": "python",
     "metadata": {},
     "outputs": [
      {
       "output_type": "stream",
       "stream": "stdout",
       "text": [
        "/Users/sfegan/Google Drive/Code/Projects/Simulations/EGS5\n"
       ]
      }
     ],
     "prompt_number": 2
    },
    {
     "cell_type": "code",
     "collapsed": false,
     "input": [
      "atm      = EGS5Simulations.LayeredAtmosphere('Parameters/atmprof6.dat')\n",
      "ztop     = atm.topOfAtmosphere()\n",
      "z0       = 0\n",
      "nlayer   = 100\n",
      "bfield   = None\n",
      "nmedia   = 1\n",
      "emax     = 10000000\n",
      "zn       = 0.0\n",
      "w0       = cos(zn/180.0*pi)\n",
      "res      = 0.02\n",
      "fov      = 5.0\n",
      "scopes = [ ]\n",
      "for i in range(0,5):\n",
      "    scopes.append([i*60/sqrt(2),i*60/sqrt(2),12])\n",
      "eprimary = 100000.0\n",
      "eprune   = 100001.0\n",
      "nsim     = 200\n",
      "nsubsim  = 20\n",
      "mfpfrac  = 0.5\n",
      "d        = 0.0"
     ],
     "language": "python",
     "metadata": {},
     "outputs": [],
     "prompt_number": 3
    },
    {
     "cell_type": "code",
     "collapsed": false,
     "input": [
      "base_rng = EGS5Simulations.EGS5RanluxSimpleRNG.instance()\n",
      "pd_rng = EGS5Simulations.PredefinedDeviateSimpleRNG(base_rng);\n",
      "pd_rng.setPD(0,mfpfrac);\n",
      "\n",
      "detA = EGS5Simulations.PruningDetector(eprune)\n",
      "detB = EGS5Simulations.EGS5SimpleIACTArray(atm, nlayer, emax, bfield, z0, ztop, nmedia)\n",
      "det = EGS5Simulations.EGS5UIDelegator()\n",
      "det.appendDelegator(detA)\n",
      "det.appendDelegator(detB)\n",
      "layers = EGS5Simulations.VecLayer()\n",
      "detB.getLayers(layers);\n",
      "eff = EGS5Simulations.TelescopeEfficiency()\n",
      "eff.scaleEffFromFile('Parameters/corsika_mirreff.dat')\n",
      "eff.scaleEffFromFile('Parameters/corsika_quanteff.dat')\n",
      "atmabs = EGS5Simulations.AtmosphericAbsorption('Parameters/corsika_atmabs.dat')\n",
      "actyield = atmabs.integrateYield(z0, w0, eff)\n",
      "for iscope in scopes:\n",
      "    s = EGS5Simulations.EGS5ACTArrayImagingScope()\n",
      "    s.x.set(iscope[0]*100, iscope[1]*100, z0)\n",
      "    s.r   = iscope[2]*100 * 0.5\n",
      "    s.res = res\n",
      "    s.fov = fov\n",
      "    s.setZnAz(zn/180.0*pi,0)\n",
      "    s._yield = actyield\n",
      "    detB.addScope(s);\n",
      "\n",
      "egs5 = EGS5Simulations.EGS5System.instance(det,pd_rng)\n",
      "egs5.initializeEGS5()"
     ],
     "language": "python",
     "metadata": {},
     "outputs": [],
     "prompt_number": 4
    },
    {
     "cell_type": "code",
     "collapsed": false,
     "input": [
      "summed_var = []\n",
      "summed_mean = []\n",
      "\n",
      "for isim in range(0,nsim):\n",
      "    egs5.setUI(det,False)\n",
      "    pd_rng.resetSession()\n",
      "    detB.clearImages()\n",
      "    egs5.shower(eprimary,(ztop-z0)*tan(zn/180.0*pi)+d*100.0,0,ztop,\\\n",
      "                sin(zn/180.0*pi),0,-cos(zn/180.0*pi),layers.size()+1,0)\n",
      "\n",
      "    image = detB.image(0)\n",
      "    nx = image.nXBins()\n",
      "    ny = image.nYBins()\n",
      "    \n",
      "    simage = zeros(shape=(len(scopes),nx,ny))\n",
      "    ssimage = zeros(shape=(len(scopes),nx,ny))\n",
      "    \n",
      "    for isubsim in range(0,nsubsim):\n",
      "        detB.clearImages()\n",
      "        egs5.setUI(detB,False)\n",
      "        for ip in range(0,detA.nParticles()):    \n",
      "            egs5.shower(detA.particle(ip).e,\\\n",
      "                        detA.particle(ip).x,detA.particle(ip).y,detA.particle(ip).z,\\\n",
      "                        detA.particle(ip).u,detA.particle(ip).v,detA.particle(ip).w,\\\n",
      "                        detA.particle(ip).ir, detA.particle(ip).iq);\n",
      "    \n",
      "        for iscope in range(0,len(scopes)):\n",
      "            image = detB.image(iscope)\n",
      "            for ix in range(0,nx):\n",
      "                for iy in range(0,ny):\n",
      "                    simage[iscope,ix,iy] += image.count(ix,iy)\n",
      "                    ssimage[iscope,ix,iy] += image.count(ix,iy)**2\n",
      "\n",
      "    image_mean = simage/nsubsim\n",
      "    image_var = ssimage/nsubsim - image_mean**2\n",
      "\n",
      "    summed_mean.append(sum(image_mean,axis=(1,2)))\n",
      "    summed_var.append(sum(image_var,axis=(1,2)))"
     ],
     "language": "python",
     "metadata": {},
     "outputs": [],
     "prompt_number": 5
    },
    {
     "cell_type": "code",
     "collapsed": false,
     "input": [
      "hist(map(lambda x: x[1],summed_var),20)"
     ],
     "language": "python",
     "metadata": {},
     "outputs": [
      {
       "metadata": {},
       "output_type": "pyout",
       "prompt_number": 6,
       "text": [
        "(array([  8.,  10.,  41.,  43.,  30.,  26.,  14.,  12.,   5.,   4.,   2.,\n",
        "         2.,   1.,   0.,   1.,   0.,   0.,   0.,   0.,   1.]),\n",
        " array([ 17.78892319,  19.89943137,  22.00993955,  24.12044772,\n",
        "        26.2309559 ,  28.34146408,  30.45197226,  32.56248043,\n",
        "        34.67298861,  36.78349679,  38.89400497,  41.00451314,\n",
        "        43.11502132,  45.2255295 ,  47.33603768,  49.44654585,\n",
        "        51.55705403,  53.66756221,  55.77807039,  57.88857856,  59.99908674]),\n",
        " <a list of 20 Patch objects>)"
       ]
      },
      {
       "metadata": {},
       "output_type": "display_data",
       "png": "[encoded data removed]",
       "text": [
        "<matplotlib.figure.Figure at 0x1113bfe90>"
       ]
      }
     ],
     "prompt_number": 6
    },
    {
     "cell_type": "code",
     "collapsed": false,
     "input": [
      "for i in range(0,len(scopes)):\n",
      "    print mean(map(lambda x: x[i],summed_var)), mean(map(lambda x: x[i],summed_mean)), mean(map(lambda x: x[i],summed_var))/mean(map(lambda x: x[i],summed_mean))"
     ],
     "language": "python",
     "metadata": {},
     "outputs": [
      {
       "output_type": "stream",
       "stream": "stdout",
       "text": [
        "19.7640754313 97.726001583 0.202239681468\n",
        "27.303863942 102.540458283 0.266274058058\n",
        "72.7554599491 130.592243246 0.557119306175\n",
        "18.4741751466 79.2801197689 0.233024056983\n",
        "5.41781456873 46.9865706336 0.115305596805\n"
       ]
      }
     ],
     "prompt_number": 7
    },
    {
     "cell_type": "code",
     "collapsed": false,
     "input": [
      "figure(figsize=(12,6))\n",
      "subplot(121)\n",
      "contour(image_mean[1,:,:])\n",
      "axis([80,170,70,160])\n",
      "subplot(122)\n",
      "contour(image_var[1,:,:])\n",
      "axis([80,170,70,160])"
     ],
     "language": "python",
     "metadata": {},
     "outputs": [
      {
       "metadata": {},
       "output_type": "pyout",
       "prompt_number": 8,
       "text": [
        "[80, 170, 70, 160]"
       ]
      },
      {
       "metadata": {},
       "output_type": "display_data",
       "png": "[encoded data removed]",
       "text": [
        "<matplotlib.figure.Figure at 0x1113bb990>"
       ]
      }
     ],
     "prompt_number": 8
    },
    {
     "cell_type": "code",
     "collapsed": false,
     "input": [
      "numpy.savez('Notebooks/Old/2013-10-03/var_%d.npz'%eprune,\n",
      "            scopes=scopes,eprune=eprune,summed_mean=summed_mean,sum_var=summed_var,\n",
      "            image_var=image_var,image_mean=image_mean)"
     ],
     "language": "python",
     "metadata": {},
     "outputs": [],
     "prompt_number": 10
    },
    {
     "cell_type": "code",
     "collapsed": false,
     "input": [
      "pd_rng.sessionCount()"
     ],
     "language": "python",
     "metadata": {},
     "outputs": [
      {
       "metadata": {},
       "output_type": "pyout",
       "prompt_number": 11,
       "text": [
        "22404538L"
       ]
      }
     ],
     "prompt_number": 11
    },
    {
     "cell_type": "code",
     "collapsed": false,
     "input": [],
     "language": "python",
     "metadata": {},
     "outputs": []
    }
   ],
   "metadata": {}
  }
 ]
}